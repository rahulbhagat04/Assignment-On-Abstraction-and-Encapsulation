{
  "nbformat": 4,
  "nbformat_minor": 0,
  "metadata": {
    "colab": {
      "provenance": []
    },
    "kernelspec": {
      "name": "python3",
      "display_name": "Python 3"
    },
    "language_info": {
      "name": "python"
    }
  },
  "cells": [
    {
      "cell_type": "code",
      "source": [
        "#Q5. Can we create an instance of an abstract class? Explain your answer."
      ],
      "metadata": {
        "id": "ZA-YbejtQBi-"
      },
      "execution_count": 37,
      "outputs": []
    },
    {
      "cell_type": "code",
      "source": [
        "#solution:\n",
        "#         Abstract classes are not complete, as they may have some methods that are not defined.\n",
        "#         So we cannot create an instance or object of an abstract class in Python.\n",
        "#         If we try to instantiate the abstract class, it raises an error."
      ],
      "metadata": {
        "id": "M89UL9ZWRq0H"
      },
      "execution_count": 53,
      "outputs": []
    },
    {
      "cell_type": "code",
      "source": [
        "#example:\n",
        "\n",
        "import abc\n",
        "# Create Abstract base class\n",
        "class Car:\n",
        "    def __init__(self, brand, model, year):\n",
        "        self.brand = brand\n",
        "        self.model = model\n",
        "        self.year = year\n",
        "\n",
        "    # Create abstract method\n",
        "    @abc.abstractmethod\n",
        "    def printDetails(self):\n",
        "        pass"
      ],
      "metadata": {
        "id": "vWZz8EdnSYsP"
      },
      "execution_count": 54,
      "outputs": []
    },
    {
      "cell_type": "code",
      "source": [
        "# Create a child class\n",
        "class Hatchback(Car):\n",
        "    def printDetails(self):\n",
        "        print(\"Brand:\", self.brand)\n",
        "        print(\"Model:\", self.model)\n",
        "        print(\"Year:\", self.year)"
      ],
      "metadata": {
        "id": "hj01rCzTSo2m"
      },
      "execution_count": 55,
      "outputs": []
    },
    {
      "cell_type": "code",
      "source": [
        "# Create an instance of the Hatchback class\n",
        "car1 = Hatchback(\"Maruti\", \"Alto\", \"2022\")"
      ],
      "metadata": {
        "id": "wY2BVNSoTKiA"
      },
      "execution_count": 56,
      "outputs": []
    },
    {
      "cell_type": "code",
      "source": [
        "car2 = car(\"tata\", \"nexon\", \"2021\") # showing error"
      ],
      "metadata": {
        "colab": {
          "base_uri": "https://localhost:8080/",
          "height": 141
        },
        "id": "Tg_bMlT0TL49",
        "outputId": "8725512e-6b8d-45ef-aafc-5095b1f3ce9b"
      },
      "execution_count": 57,
      "outputs": [
        {
          "output_type": "error",
          "ename": "TypeError",
          "evalue": "vehicle.__init__() missing 1 required positional argument: 'speed'",
          "traceback": [
            "\u001b[0;31m---------------------------------------------------------------------------\u001b[0m",
            "\u001b[0;31mTypeError\u001b[0m                                 Traceback (most recent call last)",
            "\u001b[0;32m<ipython-input-57-46fdb3d2cff7>\u001b[0m in \u001b[0;36m<cell line: 1>\u001b[0;34m()\u001b[0m\n\u001b[0;32m----> 1\u001b[0;31m \u001b[0mcar2\u001b[0m \u001b[0;34m=\u001b[0m \u001b[0mcar\u001b[0m\u001b[0;34m(\u001b[0m\u001b[0;34m\"tata\"\u001b[0m\u001b[0;34m,\u001b[0m \u001b[0;34m\"nexon\"\u001b[0m\u001b[0;34m,\u001b[0m \u001b[0;34m\"2021\"\u001b[0m\u001b[0;34m)\u001b[0m \u001b[0;31m# showing error\u001b[0m\u001b[0;34m\u001b[0m\u001b[0;34m\u001b[0m\u001b[0m\n\u001b[0m",
            "\u001b[0;31mTypeError\u001b[0m: vehicle.__init__() missing 1 required positional argument: 'speed'"
          ]
        }
      ]
    },
    {
      "cell_type": "code",
      "source": [],
      "metadata": {
        "id": "ajTQtEMGUOkc"
      },
      "execution_count": null,
      "outputs": []
    }
  ]
}