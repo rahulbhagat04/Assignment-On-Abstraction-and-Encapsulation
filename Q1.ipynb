{
  "nbformat": 4,
  "nbformat_minor": 0,
  "metadata": {
    "colab": {
      "provenance": []
    },
    "kernelspec": {
      "name": "python3",
      "display_name": "Python 3"
    },
    "language_info": {
      "name": "python"
    }
  },
  "cells": [
    {
      "cell_type": "code",
      "execution_count": 2,
      "metadata": {
        "id": "7-c3yqdrFuuv"
      },
      "outputs": [],
      "source": [
        "#Q1. What is Abstraction in OOps? Explain with an example."
      ]
    },
    {
      "cell_type": "code",
      "source": [
        "#solution: Abstraction refers to the act of representing essential featurs without including the background details or explanation.\n",
        "#          It enables programmers to hide complex implementation details while just showing users the most crucial data and functions.\n",
        "#          This abstraction makes it easier to design modular and well-organized code, makes it simpler to understand and maintain,\n",
        "#          promotes code reuse, and improves developer collaboration."
      ],
      "metadata": {
        "id": "JsYEQUFpGE7W"
      },
      "execution_count": 4,
      "outputs": []
    },
    {
      "cell_type": "code",
      "source": [
        "#example:\n",
        "\n",
        "import abc\n",
        "# Create Abstract base class\n",
        "class Car:\n",
        "    def __init__(self, brand, model, year):\n",
        "        self.brand = brand\n",
        "        self.model = model\n",
        "        self.year = year\n",
        "\n",
        "    # Create abstract method\n",
        "    @abc.abstractmethod\n",
        "    def printDetails(self):\n",
        "        pass\n",
        "\n",
        "    # Create concrete method\n",
        "    def accelerate(self):\n",
        "        print(\"Speed up ...\")\n",
        "\n",
        "    def break_applied(self):\n",
        "        print(\"Car stopped\")"
      ],
      "metadata": {
        "id": "o1ioss0aHXzm"
      },
      "execution_count": 9,
      "outputs": []
    },
    {
      "cell_type": "code",
      "source": [
        "# Create a child class\n",
        "class Hatchback(Car):\n",
        "    def printDetails(self):\n",
        "        print(\"Brand:\", self.brand)\n",
        "        print(\"Model:\", self.model)\n",
        "        print(\"Year:\", self.year)\n",
        "\n",
        "    def sunroof(self):\n",
        "        print(\"Not having this feature\")"
      ],
      "metadata": {
        "id": "slnxzo2VItoS"
      },
      "execution_count": 10,
      "outputs": []
    },
    {
      "cell_type": "code",
      "source": [
        "# Create a child class\n",
        "class Suv(Car):\n",
        "    def printDetails(self):\n",
        "        print(\"Brand:\", self.brand)\n",
        "        print(\"Model:\", self.model)\n",
        "        print(\"Year:\", self.year)\n",
        "\n",
        "    def sunroof(self):\n",
        "        print(\"Available\")"
      ],
      "metadata": {
        "id": "MTB4Frc8Iwc4"
      },
      "execution_count": 11,
      "outputs": []
    },
    {
      "cell_type": "code",
      "source": [
        "# Create an instance of the Hatchback class\n",
        "car1 = Hatchback(\"Maruti\", \"Alto\", \"2022\")\n",
        "\n",
        "# Call methods\n",
        "car1.printDetails()\n",
        "car1.accelerate()\n",
        "car1.sunroof()"
      ],
      "metadata": {
        "colab": {
          "base_uri": "https://localhost:8080/"
        },
        "id": "Ze8WSD22Izg5",
        "outputId": "9d19adc1-6e34-4d50-a1ba-61a1c38acdf3"
      },
      "execution_count": 12,
      "outputs": [
        {
          "output_type": "stream",
          "name": "stdout",
          "text": [
            "Brand: Maruti\n",
            "Model: Alto\n",
            "Year: 2022\n",
            "Speed up ...\n",
            "Not having this feature\n"
          ]
        }
      ]
    }
  ]
}