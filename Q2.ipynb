{
  "nbformat": 4,
  "nbformat_minor": 0,
  "metadata": {
    "colab": {
      "provenance": []
    },
    "kernelspec": {
      "name": "python3",
      "display_name": "Python 3"
    },
    "language_info": {
      "name": "python"
    }
  },
  "cells": [
    {
      "cell_type": "code",
      "source": [
        "#Q2. Differentiate between Abstraction and Encapsulation. Explain with an example."
      ],
      "metadata": {
        "id": "DIjBDrdVJAGJ"
      },
      "execution_count": 13,
      "outputs": []
    },
    {
      "cell_type": "code",
      "source": [
        "#solution:\n",
        "#     Abstraction\n",
        "#     Abstraction is the process of creating abstract classes and methods that can be inherited by other classes.\n",
        "#     It helps simplify complex systems by hiding implementation details and exposing only the essential functionalities.\n",
        "#     Abstraction allows developers to define common attributes and behaviors that can be shared across multiple classes.\n",
        "\n",
        "#     Encapsulation\n",
        "#     Encapsulation is the practice of bundling data and methods within a single unit, like a class, and controlling their access.\n",
        "#     It helps safeguard data integrity by restricting direct access to an object's data and methods. Encapsulation allows\n",
        "#     developers to write clean, readable, and efficient code"
      ],
      "metadata": {
        "id": "sb0j9V8ZJFTP"
      },
      "execution_count": 15,
      "outputs": []
    },
    {
      "cell_type": "code",
      "source": [
        "#example:\n",
        "\n",
        "import abc\n",
        "\n",
        "class vehicle:\n",
        "  def __init__(self,year,brand,model,speed):\n",
        "    self._year=year                    #declaring protected variable\n",
        "    self._brand=brand\n",
        "    self._model=model\n",
        "    self._speed=speed\n",
        "\n",
        "  @abc.abstractmethod\n",
        "  def getdetail(self):\n",
        "    pass\n"
      ],
      "metadata": {
        "id": "kHZoTrK5KdfH"
      },
      "execution_count": 25,
      "outputs": []
    },
    {
      "cell_type": "code",
      "source": [
        "class car(vehicle):                      # implementing abstraction and encapculation\n",
        "  def getdetail(self):\n",
        "    print(\"Brand:\", self._brand)\n",
        "    print(\"Model:\", self._model)\n",
        "    print(\"Year:\", self._year)\n",
        "    print(\"speed:\", self._speed)"
      ],
      "metadata": {
        "id": "_4bRBf9OL3gH"
      },
      "execution_count": 32,
      "outputs": []
    },
    {
      "cell_type": "code",
      "source": [
        "nexon=car(2021,'tata','nexon',180)\n",
        "nexon.getdetail()"
      ],
      "metadata": {
        "colab": {
          "base_uri": "https://localhost:8080/"
        },
        "id": "O6ZgL0hyNOyU",
        "outputId": "4bcc0a16-3389-494c-afa6-510ff8c2576b"
      },
      "execution_count": 33,
      "outputs": [
        {
          "output_type": "stream",
          "name": "stdout",
          "text": [
            "Brand: tata\n",
            "Model: nexon\n",
            "Year: 2021\n",
            "speed: 180\n"
          ]
        }
      ]
    },
    {
      "cell_type": "code",
      "source": [],
      "metadata": {
        "id": "eHAUVMcKJHdt"
      },
      "execution_count": null,
      "outputs": []
    }
  ]
}