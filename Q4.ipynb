{
  "nbformat": 4,
  "nbformat_minor": 0,
  "metadata": {
    "colab": {
      "provenance": []
    },
    "kernelspec": {
      "name": "python3",
      "display_name": "Python 3"
    },
    "language_info": {
      "name": "python"
    }
  },
  "cells": [
    {
      "cell_type": "code",
      "source": [
        "#Q4. How can we achieve data abstraction?"
      ],
      "metadata": {
        "id": "ZA-YbejtQBi-"
      },
      "execution_count": 35,
      "outputs": []
    },
    {
      "cell_type": "code",
      "source": [
        "#solution:\n",
        "#        In Python, data abstraction is achieved using abstract classes, interfaces, encapsulation, and inheritance\n",
        "\n",
        "#        Use the abc module to define abstract classes, which can have abstract methods that are declared but not implemented.\n",
        "#        Subclasses of the abstract class must implement these abstract methods.\n",
        "\n",
        "#        Use the @abstractmethod decorator to indicate which methods must be implemented by subclasses.\n",
        "\n",
        "#        Inherit from an abstract base class and provide implementations for its abstract methods"
      ],
      "metadata": {
        "id": "_uHwJBWfQHFE"
      },
      "execution_count": 36,
      "outputs": []
    }
  ]
}