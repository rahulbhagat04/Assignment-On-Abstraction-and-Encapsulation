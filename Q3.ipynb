{
  "nbformat": 4,
  "nbformat_minor": 0,
  "metadata": {
    "colab": {
      "provenance": []
    },
    "kernelspec": {
      "name": "python3",
      "display_name": "Python 3"
    },
    "language_info": {
      "name": "python"
    }
  },
  "cells": [
    {
      "cell_type": "code",
      "source": [
        "#Q3. What is abc module in python? Why is it used?"
      ],
      "metadata": {
        "id": "eHAUVMcKJHdt"
      },
      "execution_count": 34,
      "outputs": []
    },
    {
      "cell_type": "code",
      "source": [
        "#solution:\n",
        "#       It stands for the abstract base class and it is based on abstraction.\n",
        "#       Python is not a fully object-oriented programming language but it supports the features like abstract classes and abstraction.\n",
        "#       We cannot create abstract classes directly in Python,so Python provides a module called abc that provides the infrastructure\n",
        "#       for defining the base of Abstract Base Classes(ABC)."
      ],
      "metadata": {
        "id": "e2IcwAIkO8LN"
      },
      "execution_count": null,
      "outputs": []
    }
  ]
}